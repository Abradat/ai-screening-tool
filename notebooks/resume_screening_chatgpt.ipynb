{
 "cells": [
  {
   "cell_type": "code",
   "execution_count": null,
   "id": "42f1b48a-cf17-402a-ba8d-1d0c24ca5c18",
   "metadata": {},
   "outputs": [],
   "source": [
    "# Install the requirements"
   ]
  },
  {
   "cell_type": "code",
   "execution_count": null,
   "id": "9fe31c6c-285a-41a1-807d-79d000bcfe29",
   "metadata": {},
   "outputs": [],
   "source": [
    "pip install openai pyPDF2 python-docx"
   ]
  },
  {
   "cell_type": "code",
   "execution_count": null,
   "id": "c9abd558-8352-40b7-bea9-5f27a90acaba",
   "metadata": {},
   "outputs": [],
   "source": [
    "import PyPDF2, openai, json\n",
    "from docx import Document"
   ]
  },
  {
   "cell_type": "code",
   "execution_count": null,
   "id": "7028f085-00bd-4a3a-a0db-3d16bc3ed939",
   "metadata": {},
   "outputs": [],
   "source": [
    "openai.api_key = 'OPENAI API KEY'"
   ]
  },
  {
   "cell_type": "code",
   "execution_count": null,
   "id": "fbf59141-9cc6-4e50-a0a6-be8e9c40d1c8",
   "metadata": {},
   "outputs": [],
   "source": [
    "MODEL = \"gpt-4o-mini\""
   ]
  },
  {
   "cell_type": "code",
   "execution_count": null,
   "id": "d17e8530-e839-47ad-9a24-7ee54d94be10",
   "metadata": {},
   "outputs": [],
   "source": [
    "def extract_text_from_pdf(pdf_path):\n",
    "    with open(pdf_path, 'rb') as file:\n",
    "        # Create a PDF reader object\n",
    "        pdf_reader = PyPDF2.PdfReader(file)\n",
    "        \n",
    "        # Initialize an empty string to store the text\n",
    "        full_text = \"\"\n",
    "        \n",
    "        # Loop through all the pages in the PDF and extract text\n",
    "        for page_num in range(len(pdf_reader.pages)):\n",
    "            page = pdf_reader.pages[page_num]\n",
    "            full_text += page.extract_text() + \"\\n\"  # Add a new line after each page\n",
    "\n",
    "    return full_text"
   ]
  },
  {
   "cell_type": "code",
   "execution_count": null,
   "id": "1b0921f6-eca1-4239-b85a-42ff1ab2d644",
   "metadata": {},
   "outputs": [],
   "source": [
    "def extract_text_from_docx(file_path):\n",
    "    doc = Document(file_path)\n",
    "    full_text = []\n",
    "    for paragraph in doc.paragraphs:\n",
    "        full_text.append(paragraph.text)\n",
    "    return '\\n'.join(full_text)"
   ]
  },
  {
   "cell_type": "code",
   "execution_count": null,
   "id": "0c379548-4366-409e-a250-7927a318ab31",
   "metadata": {},
   "outputs": [],
   "source": [
    "# Define the prompts"
   ]
  },
  {
   "cell_type": "code",
   "execution_count": null,
   "id": "b9eaece3-52ab-4c5a-ab57-252a1214c392",
   "metadata": {},
   "outputs": [],
   "source": [
    "SYSTEM_PROMPT = \"\"\"\n",
    "You are a highly skilled assistant specialized in analyzing resumes for hiring purposes. Your tasks are as follows:\n",
    "\n",
    "    1. **Mask Personal Information:** \n",
    "       - When you receive a resume text, your first task is to identify and mask all personal identifiable information (PII). This includes, but is not limited to, names, addresses, phone numbers, email addresses, and any other sensitive details that could identify the person.\n",
    "       - Replace the masked information with a placeholder in the format `[MASKED]`.\n",
    "\n",
    "    2. **Generate Unique ID:**\n",
    "       - After masking the PII, generate a unique identifier (UUID) for the person. This ID should be used to reference the person in the JSON output and should be included in the `masked_info` property.\n",
    "\n",
    "    3. **Parse Resume into JSON:**\n",
    "       - Structure the resume into a JSON file with the following main keys:\n",
    "         - `summary`: A brief overview of the person’s qualifications and career goals.\n",
    "         - `education`: Details of the person's educational background.\n",
    "         - `work_experience`: Information about the person's professional experience.\n",
    "         - `academic_experience`: Any additional academic achievements or experiences.\n",
    "         - `skills`: A list of the person's skills and competencies.\n",
    "         - `projects`: A list of the person's projects and descriptions.\n",
    "         - `certifications`: A list of the person's certifications with specific details.\n",
    "         - `Questions`: A list of questions and applicant answers at the end of the file. \n",
    "             The questions start in the section with the name \"Questionnaire Results\". Do not truncate answers. Include all of them.\n",
    "         - `masked_info`: A section that includes the masked PII and the unique ID generated.\n",
    "\n",
    "    4. **Output:**\n",
    "       - Ensure that the entire resume content, including the masked information and structured sections, is output as a JSON file.\n",
    "\n",
    "    Your JSON output should be structured like this:\n",
    "\n",
    "    ```json\n",
    "    {\n",
    "      \"summary\": \"Masked summary information.\",\n",
    "      \"education\": \"Masked education details.\",\n",
    "      \"work_experience\": \"Masked work experience details.\",\n",
    "      \"academic_experience\": \"Masked academic experience details.\",\n",
    "      \"skills\": \"skills details.\",\n",
    "      \"projects\": \"projects details\",\n",
    "      \"certifications\": \"certifications\",\n",
    "      \"questions\": [{\n",
    "          \"q\": \"question asked from applicant\",\n",
    "          \"a\": \"applicant's answer\",\n",
    "      }],\n",
    "      \"masked_info\": {\n",
    "        \"unique_id\": \"generated-unique-id\",\n",
    "        \"original_text\": \"Original PII. DO NOT MASK THE DATA FOR THIS FIELD. Create a key for each of the PIIs according to the original text. For example, first name, city, etc. \n",
    "        If any of them needs trimming or formatting do so. For example no space in the email.\"\n",
    "      }\n",
    "    }\n",
    "    ```\n",
    "\"\"\""
   ]
  },
  {
   "cell_type": "code",
   "execution_count": null,
   "id": "7dbbf4a2-1d09-4fcf-b517-030827ced596",
   "metadata": {},
   "outputs": [],
   "source": [
    "JOB_DESCRIPTION_SYSTEM_PROMPT = \"\"\"\n",
    "You are an assistant tasked with parsing job descriptions into a structured JSON format for further analysis. \n",
    "The job descriptions contain multiple sections such as job context, accountabilities, requirements, preferences, and behavioral competencies. These sections should be extracted and organized in the JSON output.\n",
    "\n",
    "Here’s how the parsing should be structured:\n",
    "1. ** Job Title**: Title of the job. \n",
    "2. **Job Context**: Extract the general context or summary of the job.\n",
    "3. **Accountabilities**: List the responsibilities and tasks associated with the role.\n",
    "4. **Requirements**:\n",
    "   - **Education and Experience**: List of education and experience required.\n",
    "   - **Related Experience**: List required professional experience, if mentioned.\n",
    "       - **AND Group**: If it is mentioned that the experience 'MUST' include the following, they should be here as a list.\n",
    "       - **OR Group**: If it is not mentioned that the experience 'MUST' include the following, they should be here as a list.\n",
    "   - **Skills**: Extract necessary skills, separating them into technical and soft skills when possible.\n",
    "   - **Certifications**: Extract any required certifications.\n",
    "5. **Preferences**:\n",
    "   - List of skills, experience, and education that is not mandatory but it is mentioned that it is preferred or preference may be given to appcants with those. \n",
    "6. **Behavioral Competencies**: Extract any competencies or traits the candidate is expected to display, such as teamwork, communication, or problem-solving.\n",
    "7. **Other Sections**: Include any other sections such as company values or benefits that are mentioned in the job description.\n",
    "\n",
    "For each section, the parsed data should be outputted in a clean JSON format with relevant properties and descriptions. Example:\n",
    "```json\n",
    "    {\n",
    "      \"title\": \"title of the job\",\n",
    "      \"job_context\": \"A brief summary of the job's purpose and overview.\",\n",
    "      \"accountabilities\": [\n",
    "        \"Responsibility 1\",\n",
    "        \"Responsibility 2\"\n",
    "      ],\n",
    "      \"requirements\": {\n",
    "        \"education_experience\": [\n",
    "            \"education/experience_1\",\n",
    "            \"education/experience_2\",\n",
    "        ],\n",
    "        \"related_experience\": {\n",
    "          \"AND\": [\n",
    "            \"Requirement 1\",\n",
    "            \"Requirement 2\"\n",
    "          ],\n",
    "          \"OR\": [\n",
    "            \"Requirement 3\",\n",
    "            \"Requirement 4\"\n",
    "          ]\n",
    "        },\n",
    "        \"skills\": {\n",
    "          \"technical\": [\"Skill 1\", \"Skill 2\"],\n",
    "          \"soft\": [\"Skill 3\", \"Skill 4\"]\n",
    "        },\n",
    "        \"certifications\": [\"Certification 1\"],\n",
    "      },\n",
    "      \"preferences\": {\n",
    "        \"education\": [\"Preferred qualifications.\"],\n",
    "        \"experience\" [\"Preferred experience\"],\n",
    "      },\n",
    "      \"behavioral_competencies\": [\n",
    "        \"Competency 1\",\n",
    "        \"Competency 2\"\n",
    "      ],\n",
    "      \"other_sections\": {\n",
    "        \"values\": \"Company values or benefits.\"\n",
    "      }\n",
    "    }\n",
    "```\n",
    "Ensure that all relevant sections are parsed accurately and that the AND/OR logic is respected in the `conditional_requirements` section.\n",
    "\"\"\""
   ]
  },
  {
   "cell_type": "code",
   "execution_count": null,
   "id": "cd127de5-34c1-405b-87b9-e8185d38942d",
   "metadata": {},
   "outputs": [],
   "source": [
    "def mask_pii_and_parse_resume_to_json(text):\n",
    "    client = openai.OpenAI(api_key=openai.api_key)\n",
    "    response = client.chat.completions.create(\n",
    "    model=MODEL,\n",
    "    response_format={\"type\": \"json_object\"},\n",
    "    messages=[\n",
    "        {\"role\": \"system\", \"content\": SYSTEM_PROMPT},\n",
    "        {\"role\": \"user\", \"content\": text}\n",
    "        ]\n",
    "    )\n",
    "    return response.choices[0].message.content"
   ]
  },
  {
   "cell_type": "code",
   "execution_count": null,
   "id": "3f5d4c3c-341c-4da7-b797-f46d5783cedd",
   "metadata": {},
   "outputs": [],
   "source": [
    "def parse_job_description_to_json(text):\n",
    "    client = openai.OpenAI(api_key=openai.api_key)\n",
    "    response = client.chat.completions.create(\n",
    "    model=MODEL,\n",
    "    response_format={\"type\": \"json_object\"},\n",
    "    messages=[\n",
    "        {\"role\": \"system\", \"content\": JOB_DESCRIPTION_SYSTEM_PROMPT},\n",
    "        {\"role\": \"user\", \"content\": text}\n",
    "        ]\n",
    "    )\n",
    "    return response.choices[0].message.content"
   ]
  },
  {
   "cell_type": "code",
   "execution_count": null,
   "id": "2370f9f9-c40d-4d95-8769-e02eef96a153",
   "metadata": {},
   "outputs": [],
   "source": [
    "resume_text = extract_text_from_pdf('RESUME_PDF_PATH')"
   ]
  },
  {
   "cell_type": "code",
   "execution_count": null,
   "id": "8b29c5ec-d0a0-4d5a-8368-90e9a7602266",
   "metadata": {},
   "outputs": [],
   "source": [
    "resume_text"
   ]
  },
  {
   "cell_type": "code",
   "execution_count": null,
   "id": "637ab30c-20c4-4724-8689-8fb14fdfb6b1",
   "metadata": {},
   "outputs": [],
   "source": [
    "resume_response = mask_pii_and_parse_resume_to_json(resume_text)"
   ]
  },
  {
   "cell_type": "code",
   "execution_count": null,
   "id": "f2c0c2ab-9d28-4a1c-a44e-260db6f5de1f",
   "metadata": {},
   "outputs": [],
   "source": [
    "parsed_resume_response = json.loads(resume_response)"
   ]
  },
  {
   "cell_type": "code",
   "execution_count": null,
   "id": "96e9d53b-71a0-4a76-9c1e-f521d660b493",
   "metadata": {},
   "outputs": [],
   "source": [
    "parsed_resume_response"
   ]
  },
  {
   "cell_type": "code",
   "execution_count": null,
   "id": "ebfa7180-5d6d-4e92-b6f5-f491526ffc87",
   "metadata": {},
   "outputs": [],
   "source": [
    "job_description_text = extract_text_from_docx('JOB_DESCRIPTION_DOCX')"
   ]
  },
  {
   "cell_type": "code",
   "execution_count": null,
   "id": "8580e156-a313-4008-8699-c2fb6f7268d7",
   "metadata": {},
   "outputs": [],
   "source": [
    "job_description_response = parse_job_description_to_json(job_description_text)"
   ]
  },
  {
   "cell_type": "code",
   "execution_count": null,
   "id": "3ee72e35-54fe-43d1-a769-c54eaf8671fa",
   "metadata": {},
   "outputs": [],
   "source": [
    "job_description_response_parsed = json.loads(job_description_response)"
   ]
  },
  {
   "cell_type": "code",
   "execution_count": null,
   "id": "3c6726ce-ad0d-40d9-9517-85a72606c8bc",
   "metadata": {},
   "outputs": [],
   "source": [
    "job_description_response_parsed"
   ]
  },
  {
   "cell_type": "code",
   "execution_count": null,
   "id": "10a77af1-f51b-4426-b863-23d92e29c639",
   "metadata": {},
   "outputs": [],
   "source": []
  },
  {
   "cell_type": "code",
   "execution_count": null,
   "id": "e8cc1a29-451d-4687-8f20-9960649bd5c2",
   "metadata": {},
   "outputs": [],
   "source": []
  }
 ],
 "metadata": {
  "kernelspec": {
   "display_name": "Python (myenv)",
   "language": "python",
   "name": "myenv"
  },
  "language_info": {
   "codemirror_mode": {
    "name": "ipython",
    "version": 3
   },
   "file_extension": ".py",
   "mimetype": "text/x-python",
   "name": "python",
   "nbconvert_exporter": "python",
   "pygments_lexer": "ipython3",
   "version": "3.9.6"
  }
 },
 "nbformat": 4,
 "nbformat_minor": 5
}
